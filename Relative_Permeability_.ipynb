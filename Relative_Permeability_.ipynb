{
  "nbformat": 4,
  "nbformat_minor": 0,
  "metadata": {
    "colab": {
      "provenance": [],
      "authorship_tag": "ABX9TyPxBsAPU0XVOcSvWPTbR8YN"
    },
    "kernelspec": {
      "name": "python3",
      "display_name": "Python 3"
    },
    "language_info": {
      "name": "python"
    }
  },
  "cells": [
    {
      "cell_type": "markdown",
      "source": [
        "# Relative Permeability for Two Phase (Oil-Water) during Drainage and Imbibition\n"
      ],
      "metadata": {
        "id": "4o2yWHnCfKW8"
      }
    },
    {
      "cell_type": "markdown",
      "source": [
        "\n",
        "\n",
        "The relative permeability curve is a graph that shows how the relative permeability of a porous medium changes with the saturation of a particular fluid. In the case of oil-water systems, the relative permeability curve for oil (kro) and water (krw) can be plotted against the saturation of each fluid.\n",
        "\n",
        "The relative permeability curve for oil typically starts at a value of 0 when the saturation of oil is 0%, and increases as the saturation of oil increases. It reaches a maximum value at the irreducible water saturation (Siwc) and then decreases as the saturation of oil approaches 100%.\n",
        "\n",
        "The relative permeability curve for water typically starts at a value of 0 when the saturation of water is 0%, and increases as the saturation of water increases. It reaches a maximum value at the irreducible oil saturation (Soic) and then decreases as the saturation of water approaches 100%.\n",
        "\n",
        "In the process of Imhibition, the water saturation is increased in the presence of oil, and the relative permeability of water decreases as a result. This can be observed in the relative permeability curve as a shift of the water curve towards lower saturations.\n",
        "\n",
        "In the process of Drainage, the oil saturation is increased in the presence of water, and the relative permeability of oil decreases as a result. This can be observed in the relative permeability curve as a shift of the oil curve towards lower saturations.\n",
        "\n",
        "In summary the relative permeability curve shows the relationship between the saturation of a fluid and its permeability in a porous medium. The shape of the curve depends on the properties of the porous medium and the fluids involved. The process of Imhibition and Drainage can cause a change in the relative permeability and affect the fluid movement in the porous medium.\n"
      ],
      "metadata": {
        "id": "pXU47JqddOOP"
      }
    },
    {
      "cell_type": "markdown",
      "source": [
        "the next code uses the `numpy` and `matplotlib.pyplot` libraries to describe a list of relative permeability values for water (Krw) and Oil (Kro)  then plot them. The list of values is a set of relative permeability experimental values for water and oil at different saturation  \n",
        "\n",
        "Source of Data : [MILA](https://chart-studio.plotly.com/~MILA/112/corey-relative-permeability-model-to-compute-rel-perm-curves-for-oil-and-water-s/#/plot)"
      ],
      "metadata": {
        "id": "0xLpsUEoly1m"
      }
    },
    {
      "cell_type": "code",
      "execution_count": 1,
      "metadata": {
        "id": "nIakBJWqc6S2",
        "colab": {
          "base_uri": "https://localhost:8080/",
          "height": 681
        },
        "outputId": "056ce948-4032-4bca-ac90-1d29e641fb49"
      },
      "outputs": [
        {
          "output_type": "error",
          "ename": "OSError",
          "evalue": "ignored",
          "traceback": [
            "\u001b[0;31m---------------------------------------------------------------------------\u001b[0m",
            "\u001b[0;31mFileNotFoundError\u001b[0m                         Traceback (most recent call last)",
            "\u001b[0;32m/usr/local/lib/python3.8/dist-packages/matplotlib/style/core.py\u001b[0m in \u001b[0;36muse\u001b[0;34m(style)\u001b[0m\n\u001b[1;32m    113\u001b[0m             \u001b[0;32mtry\u001b[0m\u001b[0;34m:\u001b[0m\u001b[0;34m\u001b[0m\u001b[0;34m\u001b[0m\u001b[0m\n\u001b[0;32m--> 114\u001b[0;31m                 \u001b[0mrc\u001b[0m \u001b[0;34m=\u001b[0m \u001b[0mrc_params_from_file\u001b[0m\u001b[0;34m(\u001b[0m\u001b[0mstyle\u001b[0m\u001b[0;34m,\u001b[0m \u001b[0muse_default_template\u001b[0m\u001b[0;34m=\u001b[0m\u001b[0;32mFalse\u001b[0m\u001b[0;34m)\u001b[0m\u001b[0;34m\u001b[0m\u001b[0;34m\u001b[0m\u001b[0m\n\u001b[0m\u001b[1;32m    115\u001b[0m                 \u001b[0m_apply_style\u001b[0m\u001b[0;34m(\u001b[0m\u001b[0mrc\u001b[0m\u001b[0;34m)\u001b[0m\u001b[0;34m\u001b[0m\u001b[0;34m\u001b[0m\u001b[0m\n",
            "\u001b[0;32m/usr/local/lib/python3.8/dist-packages/matplotlib/__init__.py\u001b[0m in \u001b[0;36mrc_params_from_file\u001b[0;34m(fname, fail_on_error, use_default_template)\u001b[0m\n\u001b[1;32m    983\u001b[0m     \"\"\"\n\u001b[0;32m--> 984\u001b[0;31m     \u001b[0mconfig_from_file\u001b[0m \u001b[0;34m=\u001b[0m \u001b[0m_rc_params_in_file\u001b[0m\u001b[0;34m(\u001b[0m\u001b[0mfname\u001b[0m\u001b[0;34m,\u001b[0m \u001b[0mfail_on_error\u001b[0m\u001b[0;34m)\u001b[0m\u001b[0;34m\u001b[0m\u001b[0;34m\u001b[0m\u001b[0m\n\u001b[0m\u001b[1;32m    985\u001b[0m \u001b[0;34m\u001b[0m\u001b[0m\n",
            "\u001b[0;32m/usr/local/lib/python3.8/dist-packages/matplotlib/__init__.py\u001b[0m in \u001b[0;36m_rc_params_in_file\u001b[0;34m(fname, fail_on_error)\u001b[0m\n\u001b[1;32m    913\u001b[0m     \u001b[0mrc_temp\u001b[0m \u001b[0;34m=\u001b[0m \u001b[0;34m{\u001b[0m\u001b[0;34m}\u001b[0m\u001b[0;34m\u001b[0m\u001b[0;34m\u001b[0m\u001b[0m\n\u001b[0;32m--> 914\u001b[0;31m     \u001b[0;32mwith\u001b[0m \u001b[0m_open_file_or_url\u001b[0m\u001b[0;34m(\u001b[0m\u001b[0mfname\u001b[0m\u001b[0;34m)\u001b[0m \u001b[0;32mas\u001b[0m \u001b[0mfd\u001b[0m\u001b[0;34m:\u001b[0m\u001b[0;34m\u001b[0m\u001b[0;34m\u001b[0m\u001b[0m\n\u001b[0m\u001b[1;32m    915\u001b[0m         \u001b[0;32mtry\u001b[0m\u001b[0;34m:\u001b[0m\u001b[0;34m\u001b[0m\u001b[0;34m\u001b[0m\u001b[0m\n",
            "\u001b[0;32m/usr/lib/python3.8/contextlib.py\u001b[0m in \u001b[0;36m__enter__\u001b[0;34m(self)\u001b[0m\n\u001b[1;32m    112\u001b[0m         \u001b[0;32mtry\u001b[0m\u001b[0;34m:\u001b[0m\u001b[0;34m\u001b[0m\u001b[0;34m\u001b[0m\u001b[0m\n\u001b[0;32m--> 113\u001b[0;31m             \u001b[0;32mreturn\u001b[0m \u001b[0mnext\u001b[0m\u001b[0;34m(\u001b[0m\u001b[0mself\u001b[0m\u001b[0;34m.\u001b[0m\u001b[0mgen\u001b[0m\u001b[0;34m)\u001b[0m\u001b[0;34m\u001b[0m\u001b[0;34m\u001b[0m\u001b[0m\n\u001b[0m\u001b[1;32m    114\u001b[0m         \u001b[0;32mexcept\u001b[0m \u001b[0mStopIteration\u001b[0m\u001b[0;34m:\u001b[0m\u001b[0;34m\u001b[0m\u001b[0;34m\u001b[0m\u001b[0m\n",
            "\u001b[0;32m/usr/local/lib/python3.8/dist-packages/matplotlib/__init__.py\u001b[0m in \u001b[0;36m_open_file_or_url\u001b[0;34m(fname)\u001b[0m\n\u001b[1;32m    899\u001b[0m             \u001b[0mencoding\u001b[0m \u001b[0;34m=\u001b[0m \u001b[0;34m\"utf-8\"\u001b[0m\u001b[0;34m\u001b[0m\u001b[0;34m\u001b[0m\u001b[0m\n\u001b[0;32m--> 900\u001b[0;31m         \u001b[0;32mwith\u001b[0m \u001b[0mopen\u001b[0m\u001b[0;34m(\u001b[0m\u001b[0mfname\u001b[0m\u001b[0;34m,\u001b[0m \u001b[0mencoding\u001b[0m\u001b[0;34m=\u001b[0m\u001b[0mencoding\u001b[0m\u001b[0;34m)\u001b[0m \u001b[0;32mas\u001b[0m \u001b[0mf\u001b[0m\u001b[0;34m:\u001b[0m\u001b[0;34m\u001b[0m\u001b[0;34m\u001b[0m\u001b[0m\n\u001b[0m\u001b[1;32m    901\u001b[0m             \u001b[0;32myield\u001b[0m \u001b[0mf\u001b[0m\u001b[0;34m\u001b[0m\u001b[0;34m\u001b[0m\u001b[0m\n",
            "\u001b[0;31mFileNotFoundError\u001b[0m: [Errno 2] No such file or directory: '_mpl-gallery'",
            "\nDuring handling of the above exception, another exception occurred:\n",
            "\u001b[0;31mOSError\u001b[0m                                   Traceback (most recent call last)",
            "\u001b[0;32m<ipython-input-1-6d5ec9bafebc>\u001b[0m in \u001b[0;36m<module>\u001b[0;34m\u001b[0m\n\u001b[1;32m     13\u001b[0m \u001b[0mplt\u001b[0m\u001b[0;34m.\u001b[0m\u001b[0mplot\u001b[0m\u001b[0;34m(\u001b[0m\u001b[0mConcentration\u001b[0m\u001b[0;34m,\u001b[0m\u001b[0mkro\u001b[0m\u001b[0;34m,\u001b[0m \u001b[0mcolor\u001b[0m \u001b[0;34m=\u001b[0m \u001b[0;34m'#443322'\u001b[0m\u001b[0;34m,\u001b[0m \u001b[0mlinestyle\u001b[0m \u001b[0;34m=\u001b[0m \u001b[0;34m'--'\u001b[0m \u001b[0;34m,\u001b[0m \u001b[0mlabel\u001b[0m \u001b[0;34m=\u001b[0m \u001b[0;34m'Oil Permeability '\u001b[0m\u001b[0;34m)\u001b[0m\u001b[0;34m\u001b[0m\u001b[0;34m\u001b[0m\u001b[0m\n\u001b[1;32m     14\u001b[0m \u001b[0mplt\u001b[0m\u001b[0;34m.\u001b[0m\u001b[0mplot\u001b[0m\u001b[0;34m(\u001b[0m\u001b[0mConcentration\u001b[0m\u001b[0;34m,\u001b[0m\u001b[0mKr\u001b[0m \u001b[0;34m,\u001b[0m \u001b[0mlabel\u001b[0m \u001b[0;34m=\u001b[0m \u001b[0;34m'Relative Permeability Kro + Krw'\u001b[0m\u001b[0;34m,\u001b[0m \u001b[0mmarker\u001b[0m \u001b[0;34m=\u001b[0m \u001b[0;34m'*'\u001b[0m \u001b[0;34m)\u001b[0m\u001b[0;34m\u001b[0m\u001b[0;34m\u001b[0m\u001b[0m\n\u001b[0;32m---> 15\u001b[0;31m \u001b[0mplt\u001b[0m\u001b[0;34m.\u001b[0m\u001b[0mstyle\u001b[0m\u001b[0;34m.\u001b[0m\u001b[0muse\u001b[0m\u001b[0;34m(\u001b[0m\u001b[0;34m'_mpl-gallery'\u001b[0m\u001b[0;34m)\u001b[0m\u001b[0;34m\u001b[0m\u001b[0;34m\u001b[0m\u001b[0m\n\u001b[0m\u001b[1;32m     16\u001b[0m \u001b[0mplt\u001b[0m\u001b[0;34m.\u001b[0m\u001b[0mxlabel\u001b[0m\u001b[0;34m(\u001b[0m\u001b[0;34m'Saturation   '\u001b[0m\u001b[0;34m)\u001b[0m\u001b[0;34m\u001b[0m\u001b[0;34m\u001b[0m\u001b[0m\n\u001b[1;32m     17\u001b[0m \u001b[0mplt\u001b[0m\u001b[0;34m.\u001b[0m\u001b[0mylabel\u001b[0m\u001b[0;34m(\u001b[0m\u001b[0;34m'Relative Permeability  ( mD ) '\u001b[0m\u001b[0;34m)\u001b[0m\u001b[0;34m\u001b[0m\u001b[0;34m\u001b[0m\u001b[0m\n",
            "\u001b[0;32m/usr/local/lib/python3.8/dist-packages/matplotlib/style/core.py\u001b[0m in \u001b[0;36muse\u001b[0;34m(style)\u001b[0m\n\u001b[1;32m    115\u001b[0m                 \u001b[0m_apply_style\u001b[0m\u001b[0;34m(\u001b[0m\u001b[0mrc\u001b[0m\u001b[0;34m)\u001b[0m\u001b[0;34m\u001b[0m\u001b[0;34m\u001b[0m\u001b[0m\n\u001b[1;32m    116\u001b[0m             \u001b[0;32mexcept\u001b[0m \u001b[0mIOError\u001b[0m\u001b[0;34m:\u001b[0m\u001b[0;34m\u001b[0m\u001b[0;34m\u001b[0m\u001b[0m\n\u001b[0;32m--> 117\u001b[0;31m                 raise IOError(\n\u001b[0m\u001b[1;32m    118\u001b[0m                     \u001b[0;34m\"{!r} not found in the style library and input is not a \"\u001b[0m\u001b[0;34m\u001b[0m\u001b[0;34m\u001b[0m\u001b[0m\n\u001b[1;32m    119\u001b[0m                     \u001b[0;34m\"valid URL or path; see `style.available` for list of \"\u001b[0m\u001b[0;34m\u001b[0m\u001b[0;34m\u001b[0m\u001b[0m\n",
            "\u001b[0;31mOSError\u001b[0m: '_mpl-gallery' not found in the style library and input is not a valid URL or path; see `style.available` for list of available styles"
          ]
        },
        {
          "output_type": "display_data",
          "data": {
            "text/plain": [
              "<Figure size 432x288 with 1 Axes>"
            ],
            "image/png": "[encoded data removed]"
          },
          "metadata": {
            "needs_background": "light"
          }
        }
      ],
      "source": [
        "import numpy as np\n",
        "import matplotlib.pyplot as plt\n",
        "\n",
        "\n",
        "Krw = [1.0, 0.9799000102030406, 0.9600040812162024, 0.9403122130394859, 0.9208244056728905, 0.9015406591164167, 0.8824609733700643, 0.8635853484338333, 0.8449137843077238, 0.8264462809917354, 0.8081828384858688, 0.7901234567901234, 0.7722681359044995, 0.7546168758289972, 0.7371696765636159, 0.7199265381083564, 0.7028874604632179, 0.6860524436282012, 0.6694214876033057, 0.6529945923885317, 0.6367717579838792, 0.620752984389348, 0.6049382716049383, 0.5893276196306498, 0.573921028466483, 0.5587184981124373, 0.5437200285685134, 0.5289256198347108, 0.5143352719110295, 0.49994898479746963, 0.4857667584940313, 0.4717885930007142, 0.4580144883175185, 0.4444444444444444, 0.4310784613814917, 0.4179165391286603, 0.4049586776859504, 0.39220487705336193, 0.3796551372308948, 0.367309458218549, 0.3551678400163248, 0.343230282624222, 0.33149678604224053, 0.31996735027038054, 0.308641975308642, 0.29752066115702475, 0.2866034078155289, 0.27589021528415464, 0.26538108356290174, 0.25507601265177016, 0.2449750025507601, 0.23507805325987136, 0.2253851647791041, 0.21589633710845832, 0.2066115702479338, 0.19753086419753085, 0.18865421895724918, 0.17998163452708904, 0.1715131109070503, 0.16324864809713288, 0.155188246097337, 0.14733190490766243, 0.13967962452810934, 0.1322314049586776, 0.12498724619936737, 0.11794714825017855, 0.11111111111111106, 0.10447913478216507, 0.09805121926334041, 0.09182736455463725, 0.08580757065605545, 0.0799918375675951, 0.07438016528925619, 0.06897255382103862, 0.06376900316294254, 0.05876951331496781, 0.05397408427711455, 0.04938271604938271, 0.04499540863177223, 0.04081216202428322, 0.03683297622691559, 0.0330578512396694, 0.0294867870625446, 0.02611978369554125, 0.022956841138659312, 0.01999795939189876, 0.017243138455259654, 0.014692378328741939, 0.012345679012345664, 0.010203040506070784, 0.00826446280991734, 0.0065299459238853125, 0.004999489847974682, 0.0036730945821854847, 0.0025507601265176904, 0.0016324864809713236, 0.0009182736455463712, 0.0004081216202428287, 0.00010203040506070717, 0.0]\n",
        "krw=np.array(Krw)\n",
        "Kro = [0.0, 6.121824303642486e-05, 0.0002448729721456994, 0.0005509641873278238, 0.0009794918885827977, 0.0015304560759106217, 0.002203856749311295, 0.002999693908784819, 0.003917967554331191, 0.0049586776859504135, 0.006121824303642487, 0.007407407407407408, 0.00881542699724518, 0.010345883073155803, 0.011998775635139276, 0.013774104683195593, 0.015671870217324763, 0.017692072237526786, 0.019834710743801654, 0.022099785736149378, 0.024487297214569947, 0.026997245179063364, 0.02962962962962963, 0.032384450566268756, 0.03526170798898072, 0.038261401897765536, 0.04138353229262321, 0.044628099173553724, 0.047995102540557104, 0.0514845423936333, 0.05509641873278237, 0.058830731558004286, 0.06268748086929905, 0.06666666666666668, 0.07076828895010714, 0.07499234771962046, 0.07933884297520662, 0.08380777471686564, 0.08839914294459751, 0.09311294765840221, 0.09794918885827979, 0.1029078665442302, 0.10798898071625346, 0.11319253137434956, 0.11851851851851852, 0.12396694214876035, 0.12953780226507502, 0.13523109886746254, 0.14104683195592288, 0.1469850015304561, 0.15304560759106214, 0.1592286501377411, 0.16553412917049284, 0.1719620446893174, 0.1785123966942149, 0.1851851851851852, 0.19198041016222842, 0.19889807162534437, 0.2059381695745332, 0.21310070400979497, 0.22038567493112948, 0.22779308233853693, 0.23532292623201714, 0.24297520661157032, 0.2507499234771962, 0.258647076828895, 0.2666666666666667, 0.2748086929905112, 0.2830731558004286, 0.29146005509641876, 0.29996939087848185, 0.30860116314661773, 0.31735537190082647, 0.3262320171411081, 0.33523109886746255, 0.3443526170798899, 0.35359657177839005, 0.362962962962963, 0.37245179063360884, 0.3820630547903275, 0.39179675543311915, 0.4016528925619835, 0.4116314661769208, 0.42173247627793087, 0.43195592286501383, 0.44230180593816965, 0.45277012549739826, 0.46336088154269983, 0.4740740740740741, 0.48490970309152137, 0.4958677685950414, 0.5069482705846342, 0.5181512090603001, 0.5294765840220386, 0.5409243954698502, 0.5524946434037344, 0.5641873278236915, 0.5760024487297215, 0.5879400061218244, 0.6]\n",
        "kro = np.array(Kro)\n",
        "Concentration = [0.0, 0.010101010101010102, 0.020202020202020204, 0.030303030303030304, 0.04040404040404041, 0.05050505050505051, 0.06060606060606061, 0.07070707070707072, 0.08080808080808081, 0.09090909090909091, 0.10101010101010102, 0.11111111111111112, 0.12121212121212122, 0.13131313131313133, 0.14141414141414144, 0.15151515151515152, 0.16161616161616163, 0.17171717171717174, 0.18181818181818182, 0.19191919191919193, 0.20202020202020204, 0.21212121212121213, 0.22222222222222224, 0.23232323232323235, 0.24242424242424243, 0.25252525252525254, 0.26262626262626265, 0.27272727272727276, 0.2828282828282829, 0.29292929292929293, 0.30303030303030304, 0.31313131313131315, 0.32323232323232326, 0.33333333333333337, 0.3434343434343435, 0.3535353535353536, 0.36363636363636365, 0.37373737373737376, 0.38383838383838387, 0.393939393939394, 0.4040404040404041, 0.4141414141414142, 0.42424242424242425, 0.43434343434343436, 0.4444444444444445, 0.4545454545454546, 0.4646464646464647, 0.4747474747474748, 0.48484848484848486, 0.494949494949495, 0.5050505050505051, 0.5151515151515152, 0.5252525252525253, 0.5353535353535354, 0.5454545454545455, 0.5555555555555556, 0.5656565656565657, 0.5757575757575758, 0.5858585858585859, 0.595959595959596, 0.6060606060606061, 0.6161616161616162, 0.6262626262626263, 0.6363636363636365, 0.6464646464646465, 0.6565656565656566, 0.6666666666666667, 0.6767676767676768, 0.686868686868687, 0.696969696969697, 0.7070707070707072, 0.7171717171717172, 0.7272727272727273, 0.7373737373737375, 0.7474747474747475, 0.7575757575757577, 0.7676767676767677, 0.7777777777777778, 0.787878787878788, 0.797979797979798, 0.8080808080808082, 0.8181818181818182, 0.8282828282828284, 0.8383838383838385, 0.8484848484848485, 0.8585858585858587, 0.8686868686868687, 0.8787878787878789, 0.888888888888889, 0.8989898989898991, 0.9090909090909092, 0.9191919191919192, 0.9292929292929294, 0.9393939393939394, 0.9494949494949496, 0.9595959595959597, 0.9696969696969697, 0.9797979797979799, 0.98989898989899, 1.0]\n",
        "Kr = [sum(i) for i in zip(krw, kro )]\n",
        "\n",
        "plt.plot(Concentration,krw , label = 'Water Permeability' )\n",
        "plt.plot(Concentration,kro, color = '#443322', linestyle = '--' , label = 'Oil Permeability ')\n",
        "plt.plot(Concentration,Kr , label = 'Relative Permeability Kro + Krw', marker = '*' )\n",
        "plt.style.use('_mpl-gallery')\n",
        "plt.xlabel('Saturation   ')\n",
        "plt.ylabel('Relative Permeability  ( mD ) ')\n",
        "plt.legend()\n",
        "plt.grid(True)\n",
        "plt.show()"
      ]
    },
    {
      "cell_type": "markdown",
      "source": [
        "\n",
        "\n",
        "one could need real data of imbibition or drainage, thus in case of practice one could use random numbers.\n",
        "Here's a Python script that generates a list of 100 random floating-point numbers between 0 and 1, then sorts them in descending order"
      ],
      "metadata": {
        "id": "KtR97XuViiEc"
      }
    },
    {
      "cell_type": "code",
      "source": [
        "import random\n",
        "\n",
        "random_numbers = [round(random.uniform(0, 1), 4) for _ in range(100)]\n",
        "sorted_numbers = sorted(random_numbers, reverse=True)\n",
        "print(sorted_numbers)\n"
      ],
      "metadata": {
        "id": "LSSS80EphvUL"
      },
      "execution_count": null,
      "outputs": []
    },
    {
      "cell_type": "markdown",
      "source": [
        "This script uses a list comprehension and the `random.uniform()` function to generate the random numbers. The `random.uniform()` function returns a random floating-point number between two given values (in this case, 0 and 1). The list comprehension iterates over range(100) and generates 100 random numbers. Then we use the `round()` function to round the numbers to four decimal points and this could be changed depending on the need.\n",
        "Then I use the `sorted()` function with the reverse=True attribute to sort the list of random numbers in descending order."
      ],
      "metadata": {
        "id": "p9r1UOnEh2nM"
      }
    },
    {
      "cell_type": "markdown",
      "source": [
        "it is possible to use the `pyscal` library to generate relative permeability curves. pyscal is a Python library for reservoir simulation that includes tools for manipulating and analyzing simulation results, including relative permeability calculations.\n",
        "\n",
        "Here's an example of using pyscal to generate a relative permeability curve for water:"
      ],
      "metadata": {
        "id": "ccOvxmTdrN3T"
      }
    },
    {
      "cell_type": "code",
      "source": [
        "import numpy as np\n",
        "from pyscal import relperm\n",
        "\n",
        "saturations = np.linspace(0,1,100)\n",
        "krw = relperm.corey(saturations, 2, 0.2)\n",
        "\n",
        "plt.plot(saturations, krw)\n",
        "plt.xlabel(\"Water saturation\")\n",
        "plt.ylabel(\"Relative permeability (krw)\")\n",
        "plt.show()"
      ],
      "metadata": {
        "id": "sV5VsuxVrOET"
      },
      "execution_count": null,
      "outputs": []
    },
    {
      "cell_type": "markdown",
      "source": [
        "This code uses the `relperm.corey()` function from the `pyscal.relperm` module to calculate the relative permeability of water at different saturations. The `corey()` function takes three arguments: the saturations, the Corey exponent for water and the irreducible water saturation.\n",
        "Then it uses `matplotlib.pyplot` to plot the relative permeability values for water against the saturation values and label the x and y axis.\n",
        "\n",
        "The `pyscal` library is quite powerful and has a lot of functionality,other relative permeability models could be used , such as the Van Genuchten or the Brooks Corey ."
      ],
      "metadata": {
        "id": "tnhGsS50roXW"
      }
    }
  ]
}