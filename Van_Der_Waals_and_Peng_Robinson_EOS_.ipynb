{
  "nbformat": 4,
  "nbformat_minor": 0,
  "metadata": {
    "colab": {
      "provenance": [],
      "authorship_tag": "ABX9TyN82NCtbIeKKRpLrBSiBcH1",
      "include_colab_link": true
    },
    "kernelspec": {
      "name": "python3",
      "display_name": "Python 3"
    },
    "language_info": {
      "name": "python"
    }
  },
  "cells": [
    {
      "cell_type": "markdown",
      "metadata": {
        "id": "view-in-github",
        "colab_type": "text"
      },
      "source": [
        "<a href=\"https://colab.research.google.com/github/seidsohaib07/Petroleum/blob/main/Van_Der_Waals_and_Peng_Robinson_EOS_.ipynb\" target=\"_parent\"><img src=\"https://colab.research.google.com/assets/colab-badge.svg\" alt=\"Open In Colab\"/></a>"
      ]
    },
    {
      "cell_type": "markdown",
      "source": [
        "#Van Der Waals and Peng Robinson cubic equation of states "
      ],
      "metadata": {
        "id": "LOGScl3pqLzN"
      }
    },
    {
      "cell_type": "markdown",
      "source": [
        "EOS (Equation of State) cubic is a mathematical equation that describes the relationship between pressure, volume, and temperature for a substance. In the field of petroleum engineering, it is commonly used to model the behavior of reservoir fluids (such as oil and gas) under different conditions, including changes in temperature and pressure.\n",
        "\n",
        "The importance of EOS cubic in petroleum engineering lies in its ability to predict the behavior of reservoir fluids. This information is crucial for making informed decisions about drilling, production, and other operations in a petroleum field. For example, an EOS cubic model can be used to determine the optimal conditions for producing oil and gas from a reservoir, or to estimate the amount of hydrocarbons that can be recovered from a field. Additionally, EOS cubic can be used to identify the properties of reservoir fluids, such as density and viscosity, which are important for understanding the flow dynamics of the fluid in the reservoir.\n",
        "\n",
        "EOS cubic is also used for other engineering application, such as thermodynamics. It's a widely accepted equation in the industry, and there are many software packages that are developed to use it.\n",
        "\n",
        "##Van Der Waals equation of state \n",
        "\n",
        "The Van der Waals equation is a modified version of the ideal gas law, which takes into account the finite size of molecules and their mutual attractive forces. The equation is represented as:\n",
        "\n",
        "P = (nRT) / (V - nb) - an^2 / V^2\n",
        "\n",
        "Where P is the pressure, V is the volume, T is the temperature, n is the number of moles of the gas, R is the ideal gas constant, a is a constant related to the attractive forces between molecules, and b is a constant related to the volume occupied by the gas molecules.\n",
        "\n",
        "The Van der Waals equation is important in understanding the behavior of real gases, as it accounts for the deviation from the ideal gas law that occurs due to the finite size of gas molecules and their mutual attractive forces. It is particularly useful in describing the behavior of gases at low temperatures and high pressures, where the deviations from the ideal gas law are more pronounced.\n",
        "\n",
        "It's important to note that the Van der Waals equation is a theoretical model of the behavior of gases and it is not always accurate, especially at high pressures and low temperatures. The most accurate models are developed using the equation of state (EOS) theory.\n",
        "\n",
        "##Peng Robinson equation of state \n",
        "\n",
        "The Peng-Robinson Equation of State (PR EOS) is a widely used thermodynamic model for describing the behavior of fluids, including gases and liquids. It is a cubic equation of state, which means that it relates the pressure, volume, and temperature of a fluid using a third-order polynomial.\n",
        "\n",
        "The PR EOS is based on the combination of two theoretical concepts: the Van der Waals equation and the Redlich-Kwong equation of state, which models the attractive and repulsive forces between molecules.\n",
        "\n",
        "The PR EOS is represented by the following equation:\n",
        "\n",
        "P = (RT / (V-b)) - (a / (V^2 + 2bV - b^2))\n",
        "\n",
        "Where P is the pressure, V is the volume, T is the temperature, R is the ideal gas constant, a and b are coefficients that are determined based on the properties of the fluid.\n",
        "\n",
        "The PR EOS is widely used in the petroleum industry for predicting the thermodynamic behavior of reservoir fluids, such as oil and gas, under different conditions of pressure and temperature. It is also used in other industries such as chemical and food processing.\n",
        "\n",
        "\n",
        "One of the advantages of PR EOS is that it can predict the behavior of fluids over a wide range of pressures and temperatures, including the critical point, and it is also relatively simple to implement in computer simulations.\n",
        "\n",
        "  \n",
        "\n",
        "This is a Python code that uses the Van der Waals equation and Peng-Robinson equation of state (EOS) to calculate the pressure of a fluid at a given temperature and volume. It takes user inputs for the temperature, critical temperature, critical pressure, and EOS type, and then uses a for-loop to calculate the pressure for a range of volumes. The results are then plotted on a graph using the Matplotlib library, showing the relationship between pressure and volume. The code enables the user to switch between the two EOS types and compare the results by plotting them on the same graph.\n",
        "\n",
        "\n",
        "\n",
        "\n"
      ],
      "metadata": {
        "id": "rXJkRP4WqZHJ"
      }
    },
    {
      "cell_type": "code",
      "execution_count": null,
      "metadata": {
        "id": "R7JGiRcNo88l"
      },
      "outputs": [],
      "source": [
        "import matplotlib.pyplot as plt\n",
        "\n",
        "\n",
        "def eos_pressure(t: float, v: float, tc=None, pc=None, eos_type='vdw'):\n",
        "    \"\"\"\n",
        "    This function calculates the pressure using the specified equation of state.\n",
        "    :param t: temperature in Kelvin\n",
        "    :param v: volume in m^3\n",
        "    :param tc: critical temperature in Kelvin\n",
        "    :param pc: critical pressure in Pa\n",
        "    :param eos_type: the type of equation of state to use. 'vdw' for Van der Waals equation or 'pr'\n",
        "    for Peng-Robinson equation\n",
        "    :return: the pressure in Pa\n",
        "    \"\"\"\n",
        "    r = 8.314  # Universal gas constant\n",
        "    if eos_type == 'vdw':\n",
        "        a_vdw = 27 * (r * pc) ** 2 / (64 * pc)\n",
        "        b_vdw = r * tc / (8 * pc)\n",
        "        pres = r * t / (v - b_vdw) - a_vdw / (v * v)\n",
        "        return pres\n",
        "    elif eos_type == 'pr':\n",
        "        a_pr = 0.45724 * r ** 2 * tc ** 2 / pc\n",
        "        B = 0.07780 * r * tc / pc\n",
        "        pres = r * t / (v - B) - (a_pr * pc) / (r * tc * (v + B) * (v + B))\n",
        "        return pres\n",
        "    else:\n",
        "        raise ValueError(f\"Invalid EOS type: {eos_type}\")\n",
        "\n",
        "\n",
        "T = float(input(\"Enter the temperature in deg. C: \"))\n",
        "T += 273.15  # Convert to Kelvin\n",
        "\n",
        "Tc = float(input(\"Enter the critical temperature in deg. C: \"))\n",
        "Tc += 273.15  # Convert to Kelvin\n",
        "Pc = float(input(\"Enter the critical pressure in pascal: \"))\n",
        "EOS_Type = str(input(\"Enter the EOS type (vdw / pr):\"))\n",
        "\n",
        "#B = float(input(\"Enter the co-volume: \"))\n",
        "\n",
        "\n",
        "V_start = 8.314*Tc/(8*Pc)\n",
        "V_end = 0.002\n",
        "m = 1000\n",
        "V_incr = (V_end - V_start) / m\n",
        "\n",
        "V_res = []\n",
        "P_res = []\n",
        "\n",
        "V = V_start + V_incr\n",
        "for i in range(m):\n",
        "    P = eos_pressure(t=T, v=V, tc=Tc, pc=Pc, eos_type=EOS_Type)\n",
        "    V_res.append(V)\n",
        "    P_res.append(P)\n",
        "    V += V_incr\n",
        "\n",
        "# Plotting\n",
        "plt.style.use('ggplot')\n",
        "plt.plot(V_res, P_res, label=EOS_Type)\n",
        "plt.title('Pressure vs. Volume')\n",
        "plt.xlabel('Volume (m^3)')\n",
        "plt.ylabel('Pressure (Pa)')\n",
        "plt.legend()\n",
        "plt.show()"
      ]
    },
    {
      "cell_type": "markdown",
      "source": [],
      "metadata": {
        "id": "3HIhlbAQqLqJ"
      }
    }
  ]
}